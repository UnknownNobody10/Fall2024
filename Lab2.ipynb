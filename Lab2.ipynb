{
  "nbformat": 4,
  "nbformat_minor": 0,
  "metadata": {
    "colab": {
      "provenance": [],
      "authorship_tag": "ABX9TyN6z9pGHJ+PAUvj55FLpgtD",
      "include_colab_link": true
    },
    "kernelspec": {
      "name": "python3",
      "display_name": "Python 3"
    },
    "language_info": {
      "name": "python"
    }
  },
  "cells": [
    {
      "cell_type": "markdown",
      "metadata": {
        "id": "view-in-github",
        "colab_type": "text"
      },
      "source": [
        "<a href=\"https://colab.research.google.com/github/UnknownNobody10/Fall2024/blob/main/Lab2.ipynb\" target=\"_parent\"><img src=\"https://colab.research.google.com/assets/colab-badge.svg\" alt=\"Open In Colab\"/></a>"
      ]
    },
    {
      "cell_type": "code",
      "execution_count": 20,
      "metadata": {
        "colab": {
          "base_uri": "https://localhost:8080/",
          "height": 141
        },
        "id": "2_DiPRKis6An",
        "outputId": "64565463-231a-4eb6-e9c4-35501f5bc7a1"
      },
      "outputs": [
        {
          "output_type": "error",
          "ename": "SyntaxError",
          "evalue": "(unicode error) 'unicodeescape' codec can't decode bytes in position 2-3: truncated \\UXXXXXXXX escape (<ipython-input-20-0b9f27962a2d>, line 26)",
          "traceback": [
            "\u001b[0;36m  File \u001b[0;32m\"<ipython-input-20-0b9f27962a2d>\"\u001b[0;36m, line \u001b[0;32m26\u001b[0m\n\u001b[0;31m    spark.read.csv(\"C:\\Users\\skyle\\Downloads\\AmazonTop50Books2009-2021-1.csv\", header = True, mode = \"DROPMALFORMED\", schema = schema)\u001b[0m\n\u001b[0m                                                                             ^\u001b[0m\n\u001b[0;31mSyntaxError\u001b[0m\u001b[0;31m:\u001b[0m (unicode error) 'unicodeescape' codec can't decode bytes in position 2-3: truncated \\UXXXXXXXX escape\n"
          ]
        }
      ],
      "source": [
        "#Step 1: Install Dependencies\n",
        "!apt-get install openjdk-8-jdk-headless -qq > /dev/null\n",
        "!wget -q https://archive.apache.org/dist/spark/spark-3.3.0/spark-3.3.0-bin-hadoop3.tgz\n",
        "!tar xf spark-3.3.0-bin-hadoop3.tgz\n",
        "!pip install -q findspark\n",
        "\n",
        "#Step 2: Add environment variables\n",
        "import os\n",
        "os.environ[\"JAVA_HOME\"] = \"/usr/lib/jvm/java-8-openjdk-amd64\"\n",
        "os.environ[\"SPARK_HOME\"] = \"spark-3.3.0-bin-hadoop3\"\n",
        "\n",
        "#Step 3: Initialize Pyspark\n",
        "import findspark\n",
        "findspark.init()\n",
        "#creating spark context\n",
        "from pyspark.sql import SparkSession\n",
        "spark = SparkSession.builder.master(\"local[*]\").getOrCreate()\n",
        "sc = spark.sparkContext\n",
        "sc\n",
        "import findspark\n",
        "findspark.init()\n",
        "findspark.find()\n",
        "from pyspark.sql import SQLContext, Row, SparkSession\n",
        "spark = SparkSession.builder.getOrCreate()\n",
        "sc = spark.sparkContext\n",
        "\n"
      ]
    },
    {
      "cell_type": "code",
      "source": [
        "from google.colab import files\n",
        "df = files.upload()"
      ],
      "metadata": {
        "colab": {
          "base_uri": "https://localhost:8080/",
          "height": 90
        },
        "id": "XV5rWkDeuRgX",
        "outputId": "4dbeeecb-9508-460c-f517-acc7833d362c"
      },
      "execution_count": 74,
      "outputs": [
        {
          "output_type": "display_data",
          "data": {
            "text/plain": [
              "<IPython.core.display.HTML object>"
            ],
            "text/html": [
              "\n",
              "     <input type=\"file\" id=\"files-be00ac51-282b-402c-acbd-a9315d53192a\" name=\"files[]\" multiple disabled\n",
              "        style=\"border:none\" />\n",
              "     <output id=\"result-be00ac51-282b-402c-acbd-a9315d53192a\">\n",
              "      Upload widget is only available when the cell has been executed in the\n",
              "      current browser session. Please rerun this cell to enable.\n",
              "      </output>\n",
              "      <script>// Copyright 2017 Google LLC\n",
              "//\n",
              "// Licensed under the Apache License, Version 2.0 (the \"License\");\n",
              "// you may not use this file except in compliance with the License.\n",
              "// You may obtain a copy of the License at\n",
              "//\n",
              "//      http://www.apache.org/licenses/LICENSE-2.0\n",
              "//\n",
              "// Unless required by applicable law or agreed to in writing, software\n",
              "// distributed under the License is distributed on an \"AS IS\" BASIS,\n",
              "// WITHOUT WARRANTIES OR CONDITIONS OF ANY KIND, either express or implied.\n",
              "// See the License for the specific language governing permissions and\n",
              "// limitations under the License.\n",
              "\n",
              "/**\n",
              " * @fileoverview Helpers for google.colab Python module.\n",
              " */\n",
              "(function(scope) {\n",
              "function span(text, styleAttributes = {}) {\n",
              "  const element = document.createElement('span');\n",
              "  element.textContent = text;\n",
              "  for (const key of Object.keys(styleAttributes)) {\n",
              "    element.style[key] = styleAttributes[key];\n",
              "  }\n",
              "  return element;\n",
              "}\n",
              "\n",
              "// Max number of bytes which will be uploaded at a time.\n",
              "const MAX_PAYLOAD_SIZE = 100 * 1024;\n",
              "\n",
              "function _uploadFiles(inputId, outputId) {\n",
              "  const steps = uploadFilesStep(inputId, outputId);\n",
              "  const outputElement = document.getElementById(outputId);\n",
              "  // Cache steps on the outputElement to make it available for the next call\n",
              "  // to uploadFilesContinue from Python.\n",
              "  outputElement.steps = steps;\n",
              "\n",
              "  return _uploadFilesContinue(outputId);\n",
              "}\n",
              "\n",
              "// This is roughly an async generator (not supported in the browser yet),\n",
              "// where there are multiple asynchronous steps and the Python side is going\n",
              "// to poll for completion of each step.\n",
              "// This uses a Promise to block the python side on completion of each step,\n",
              "// then passes the result of the previous step as the input to the next step.\n",
              "function _uploadFilesContinue(outputId) {\n",
              "  const outputElement = document.getElementById(outputId);\n",
              "  const steps = outputElement.steps;\n",
              "\n",
              "  const next = steps.next(outputElement.lastPromiseValue);\n",
              "  return Promise.resolve(next.value.promise).then((value) => {\n",
              "    // Cache the last promise value to make it available to the next\n",
              "    // step of the generator.\n",
              "    outputElement.lastPromiseValue = value;\n",
              "    return next.value.response;\n",
              "  });\n",
              "}\n",
              "\n",
              "/**\n",
              " * Generator function which is called between each async step of the upload\n",
              " * process.\n",
              " * @param {string} inputId Element ID of the input file picker element.\n",
              " * @param {string} outputId Element ID of the output display.\n",
              " * @return {!Iterable<!Object>} Iterable of next steps.\n",
              " */\n",
              "function* uploadFilesStep(inputId, outputId) {\n",
              "  const inputElement = document.getElementById(inputId);\n",
              "  inputElement.disabled = false;\n",
              "\n",
              "  const outputElement = document.getElementById(outputId);\n",
              "  outputElement.innerHTML = '';\n",
              "\n",
              "  const pickedPromise = new Promise((resolve) => {\n",
              "    inputElement.addEventListener('change', (e) => {\n",
              "      resolve(e.target.files);\n",
              "    });\n",
              "  });\n",
              "\n",
              "  const cancel = document.createElement('button');\n",
              "  inputElement.parentElement.appendChild(cancel);\n",
              "  cancel.textContent = 'Cancel upload';\n",
              "  const cancelPromise = new Promise((resolve) => {\n",
              "    cancel.onclick = () => {\n",
              "      resolve(null);\n",
              "    };\n",
              "  });\n",
              "\n",
              "  // Wait for the user to pick the files.\n",
              "  const files = yield {\n",
              "    promise: Promise.race([pickedPromise, cancelPromise]),\n",
              "    response: {\n",
              "      action: 'starting',\n",
              "    }\n",
              "  };\n",
              "\n",
              "  cancel.remove();\n",
              "\n",
              "  // Disable the input element since further picks are not allowed.\n",
              "  inputElement.disabled = true;\n",
              "\n",
              "  if (!files) {\n",
              "    return {\n",
              "      response: {\n",
              "        action: 'complete',\n",
              "      }\n",
              "    };\n",
              "  }\n",
              "\n",
              "  for (const file of files) {\n",
              "    const li = document.createElement('li');\n",
              "    li.append(span(file.name, {fontWeight: 'bold'}));\n",
              "    li.append(span(\n",
              "        `(${file.type || 'n/a'}) - ${file.size} bytes, ` +\n",
              "        `last modified: ${\n",
              "            file.lastModifiedDate ? file.lastModifiedDate.toLocaleDateString() :\n",
              "                                    'n/a'} - `));\n",
              "    const percent = span('0% done');\n",
              "    li.appendChild(percent);\n",
              "\n",
              "    outputElement.appendChild(li);\n",
              "\n",
              "    const fileDataPromise = new Promise((resolve) => {\n",
              "      const reader = new FileReader();\n",
              "      reader.onload = (e) => {\n",
              "        resolve(e.target.result);\n",
              "      };\n",
              "      reader.readAsArrayBuffer(file);\n",
              "    });\n",
              "    // Wait for the data to be ready.\n",
              "    let fileData = yield {\n",
              "      promise: fileDataPromise,\n",
              "      response: {\n",
              "        action: 'continue',\n",
              "      }\n",
              "    };\n",
              "\n",
              "    // Use a chunked sending to avoid message size limits. See b/62115660.\n",
              "    let position = 0;\n",
              "    do {\n",
              "      const length = Math.min(fileData.byteLength - position, MAX_PAYLOAD_SIZE);\n",
              "      const chunk = new Uint8Array(fileData, position, length);\n",
              "      position += length;\n",
              "\n",
              "      const base64 = btoa(String.fromCharCode.apply(null, chunk));\n",
              "      yield {\n",
              "        response: {\n",
              "          action: 'append',\n",
              "          file: file.name,\n",
              "          data: base64,\n",
              "        },\n",
              "      };\n",
              "\n",
              "      let percentDone = fileData.byteLength === 0 ?\n",
              "          100 :\n",
              "          Math.round((position / fileData.byteLength) * 100);\n",
              "      percent.textContent = `${percentDone}% done`;\n",
              "\n",
              "    } while (position < fileData.byteLength);\n",
              "  }\n",
              "\n",
              "  // All done.\n",
              "  yield {\n",
              "    response: {\n",
              "      action: 'complete',\n",
              "    }\n",
              "  };\n",
              "}\n",
              "\n",
              "scope.google = scope.google || {};\n",
              "scope.google.colab = scope.google.colab || {};\n",
              "scope.google.colab._files = {\n",
              "  _uploadFiles,\n",
              "  _uploadFilesContinue,\n",
              "};\n",
              "})(self);\n",
              "</script> "
            ]
          },
          "metadata": {}
        },
        {
          "output_type": "stream",
          "name": "stdout",
          "text": [
            "Saving AmazonTop50Books2009-2021-1.csv to AmazonTop50Books2009-2021-1 (2).csv\n"
          ]
        }
      ]
    },
    {
      "cell_type": "code",
      "source": [
        "#Q1\n",
        "df = spark.read.option(\"inferSchema\", \"true\").option(\"header\", \"true\").csv(\"AmazonTop50Books2009-2021-1.csv\")\n",
        "df.show()\n",
        "df.filter(df[\"UserRating\"].cast(\"float\") > 4.9).show(10)"
      ],
      "metadata": {
        "colab": {
          "base_uri": "https://localhost:8080/"
        },
        "id": "gcXVezpPvUsc",
        "outputId": "137f1f0f-8bf6-4c81-dc1e-e540e705f5d0"
      },
      "execution_count": 99,
      "outputs": [
        {
          "output_type": "stream",
          "name": "stdout",
          "text": [
            "+--------------------+--------------------+----------+-------+-----+----+-----------+\n",
            "|                Name|              Author|UserRating|Reviews|Price|Year|      Genre|\n",
            "+--------------------+--------------------+----------+-------+-----+----+-----------+\n",
            "|10-Day Green Smoo...|            JJ Smith|       4.7| 17,350|  $8 |2016|Non Fiction|\n",
            "|   11/22/63: A Novel|        Stephen King|       4.6|  2,052| $22 |2011|    Fiction|\n",
            "|12 Rules for Life...|  Jordan B. Peterson|       4.7| 18,979| $15 |2018|Non Fiction|\n",
            "|                1984|       George Orwell|       4.7| 70,425|  $8 |2021|    Fiction|\n",
            "|1984 (Signet Clas...|       George Orwell|       4.7| 21,424|  $6 |2017|    Fiction|\n",
            "|5,000 Awesome Fac...|National Geograph...|       4.8|  7,665| $12 |2019|Non Fiction|\n",
            "|A Dance with Drag...| George R. R. Martin|       4.4| 12,643| $11 |2011|    Fiction|\n",
            "|A Game of Thrones...| George R. R. Martin|       4.7| 19,735| $30 |2014|    Fiction|\n",
            "|A Gentleman in Mo...|         Amor Towles|       4.7| 19,699| $15 |2017|    Fiction|\n",
            "|A Higher Loyalty:...|         James Comey|       4.7|  5,983|  $3 |2018|Non Fiction|\n",
            "|A Man Called Ove:...|     Fredrik Backman|       4.6| 23,848|  $8 |2016|    Fiction|\n",
            "|A Man Called Ove:...|     Fredrik Backman|       4.6| 23,848|  $8 |2017|    Fiction|\n",
            "|A Patriot's Histo...|    Larry Schweikart|       4.6|    460|  $2 |2010|Non Fiction|\n",
            "|     A Promised Land|        Barack Obama|       4.9| 83,212| $23 |2020|Non Fiction|\n",
            "|A Stolen Life: A ...|       Jaycee Dugard|       4.6|  4,149| $32 |2011|Non Fiction|\n",
            "|A Wrinkle in Time...|   Madeleine L'Engle|       4.5|  5,153|  $5 |2018|    Fiction|\n",
            "|Act Like a Lady, ...|        Steve Harvey|       4.6|  5,013| $17 |2009|Non Fiction|\n",
            "|Adult Coloring Bo...|Adult Coloring Bo...|       4.5|  2,313|  $4 |2016|Non Fiction|\n",
            "|Adult Coloring Bo...|  Blue Star Coloring|       4.6|  2,925|  $6 |2015|Non Fiction|\n",
            "|Adult Coloring Bo...|  Blue Star Coloring|       4.4|  2,951|  $6 |2015|Non Fiction|\n",
            "+--------------------+--------------------+----------+-------+-----+----+-----------+\n",
            "only showing top 20 rows\n",
            "\n",
            "+--------------------+---------------+----------+-------+-----+----+-----------+\n",
            "|                Name|         Author|UserRating|Reviews|Price|Year|      Genre|\n",
            "+--------------------+---------------+----------+-------+-----+----+-----------+\n",
            "|     A Promised Land|   Barack Obama|       4.9| 83,212| $23 |2020|Non Fiction|\n",
            "|Big Shot (Diary o...|    Jeff Kinney|       4.9| 19,470|  $8 |2021|    Fiction|\n",
            "|Brown Bear, Brown...|Bill Martin Jr.|       4.9| 14,344|  $5 |2017|    Fiction|\n",
            "|Brown Bear, Brown...|Bill Martin Jr.|       4.9| 14,344|  $5 |2019|    Fiction|\n",
            "|Brown Bear, Brown...|Bill Martin Jr.|       4.9| 25,321|  $5 |2020|    Fiction|\n",
            "|Brown Bear, Brown...|Bill Martin Jr.|       4.9| 45,919|  $6 |2021|    Fiction|\n",
            "|Chicka Chicka Boo...|Bill Martin Jr.|       4.9| 20,705|  $4 |2020|    Fiction|\n",
            "|Dog Man and Cat K...|     Dav Pilkey|       4.9|  5,062|  $6 |2018|    Fiction|\n",
            "|Dog Man: A Tale o...|     Dav Pilkey|       4.9|  4,786|  $8 |2017|    Fiction|\n",
            "|Dog Man: Brawl of...|     Dav Pilkey|       4.9|  7,235|  $4 |2018|    Fiction|\n",
            "+--------------------+---------------+----------+-------+-----+----+-----------+\n",
            "only showing top 10 rows\n",
            "\n"
          ]
        }
      ]
    },
    {
      "cell_type": "code",
      "source": [
        "#Q2\n",
        "df.filter((df[\"UserRating\"].cast(\"float\") > 4.9) & (df[\"Year\"].cast(\"int\") > 2016)).show()"
      ],
      "metadata": {
        "id": "Lg58yL3lNfVS",
        "outputId": "8f5a0c1b-329a-48ab-b832-e8d3484bb3cb",
        "colab": {
          "base_uri": "https://localhost:8080/"
        }
      },
      "execution_count": 105,
      "outputs": [
        {
          "output_type": "stream",
          "name": "stdout",
          "text": [
            "+--------------------+---------------+----------+-------+-----+----+-----------+\n",
            "|                Name|         Author|UserRating|Reviews|Price|Year|      Genre|\n",
            "+--------------------+---------------+----------+-------+-----+----+-----------+\n",
            "|     A Promised Land|   Barack Obama|       4.9| 83,212| $23 |2020|Non Fiction|\n",
            "|Big Shot (Diary o...|    Jeff Kinney|       4.9| 19,470|  $8 |2021|    Fiction|\n",
            "|Brown Bear, Brown...|Bill Martin Jr.|       4.9| 14,344|  $5 |2017|    Fiction|\n",
            "|Brown Bear, Brown...|Bill Martin Jr.|       4.9| 14,344|  $5 |2019|    Fiction|\n",
            "|Brown Bear, Brown...|Bill Martin Jr.|       4.9| 25,321|  $5 |2020|    Fiction|\n",
            "|Brown Bear, Brown...|Bill Martin Jr.|       4.9| 45,919|  $6 |2021|    Fiction|\n",
            "|Chicka Chicka Boo...|Bill Martin Jr.|       4.9| 20,705|  $4 |2020|    Fiction|\n",
            "|Dog Man and Cat K...|     Dav Pilkey|       4.9|  5,062|  $6 |2018|    Fiction|\n",
            "|Dog Man: A Tale o...|     Dav Pilkey|       4.9|  4,786|  $8 |2017|    Fiction|\n",
            "|Dog Man: Brawl of...|     Dav Pilkey|       4.9|  7,235|  $4 |2018|    Fiction|\n",
            "|Dog Man: Brawl of...|     Dav Pilkey|       4.9|  7,235|  $4 |2019|    Fiction|\n",
            "|Dog Man: Fetch-22...|     Dav Pilkey|       4.9| 12,619|  $8 |2019|    Fiction|\n",
            "|Dog Man: For Whom...|     Dav Pilkey|       4.9|  9,089|  $8 |2019|    Fiction|\n",
            "|Dog Man: Grime an...|     Dav Pilkey|       4.9| 31,045|  $6 |2020|    Fiction|\n",
            "|Dog Man: Lord of ...|     Dav Pilkey|       4.9|  5,470|  $6 |2018|    Fiction|\n",
            "|Dog Man: Motherin...|     Dav Pilkey|       4.9| 22,196|  $7 |2021|    Fiction|\n",
            "|Harry Potter and ...|  J. K. Rowling|       4.9|  7,758| $18 |2019|    Fiction|\n",
            "|Harry Potter and ...|   J.K. Rowling|       4.9|  3,146| $30 |2017|    Fiction|\n",
            "|I Love You to the...|Amelia Hepworth|       4.9| 24,356|  $1 |2020|    Fiction|\n",
            "|I Love You to the...|Amelia Hepworth|       4.9| 58,200|  $5 |2021|    Fiction|\n",
            "+--------------------+---------------+----------+-------+-----+----+-----------+\n",
            "only showing top 20 rows\n",
            "\n"
          ]
        }
      ]
    },
    {
      "cell_type": "code",
      "source": [
        "#Q3\n",
        "df.filter((df[\"UserRating\"].cast(\"float\") > 4.0) & (df[\"UserRating\"].cast(\"float\") < 4.5)).sort([\"Price\"]).show()"
      ],
      "metadata": {
        "id": "gjEtgOcyOZT4",
        "outputId": "c0f029f3-7eea-4bd0-c56e-1c87554307e5",
        "colab": {
          "base_uri": "https://localhost:8080/"
        }
      },
      "execution_count": 108,
      "outputs": [
        {
          "output_type": "stream",
          "name": "stdout",
          "text": [
            "+--------------------+-------------------+----------+-------+-----+----+-----------+\n",
            "|                Name|             Author|UserRating|Reviews|Price|Year|      Genre|\n",
            "+--------------------+-------------------+----------+-------+-----+----+-----------+\n",
            "|Proof of Heaven: ...|     Eben Alexander|       4.3| 13,616| $10 |2013|Non Fiction|\n",
            "|White Fragility: ...|     Robin DiAngelo|       4.3| 31,125| $10 |2020|Non Fiction|\n",
            "| Little Bee: A Novel|       Chris Cleave|       4.1|  1,467| $10 |2010|    Fiction|\n",
            "|Proof of Heaven: ...|     Eben Alexander|       4.3| 13,616| $10 |2012|Non Fiction|\n",
            "|Three Cups of Tea...|     Greg Mortenson|       4.3|  3,319| $11 |2010|Non Fiction|\n",
            "|The Daily Show wi...|        Jon Stewart|       4.4|    440| $11 |2010|Non Fiction|\n",
            "|Three Cups of Tea...|     Greg Mortenson|       4.3|  3,319| $11 |2009|Non Fiction|\n",
            "|Women Food and Go...|        Geneen Roth|       4.2|  1,302| $11 |2010|Non Fiction|\n",
            "|A Dance with Drag...|George R. R. Martin|       4.4| 12,643| $11 |2011|    Fiction|\n",
            "|Tina Fey: Bossypants|           Tina Fey|       4.3|  5,977| $12 |2011|Non Fiction|\n",
            "|The Room Where It...|        John Bolton|       4.3| 44,608| $12 |2020|Non Fiction|\n",
            "|    Olive Kitteridge|   Elizabeth Strout|       4.2|  4,519| $12 |2009|    Fiction|\n",
            "|Instant Pot Press...|     Jennifer Smith|       4.4|  7,396| $13 |2018|Non Fiction|\n",
            "|And the Mountains...|    Khaled Hosseini|       4.3| 12,159| $13 |2013|    Fiction|\n",
            "|Love Wins: A Book...|           Rob Bell|       4.2|  1,649| $13 |2011|Non Fiction|\n",
            "|David and Goliath...|   Malcolm Gladwell|       4.4|  4,642| $13 |2013|Non Fiction|\n",
            "|The Lego Ideas Bo...|   Daniel Lipkowitz|       4.4|  4,247| $13 |2011|Non Fiction|\n",
            "|Instant Pot Press...|     Jennifer Smith|       4.4|  7,396| $13 |2019|Non Fiction|\n",
            "|Origin: A Novel (...|          Dan Brown|       4.3| 18,904| $13 |2017|    Fiction|\n",
            "|The Lego Ideas Bo...|   Daniel Lipkowitz|       4.4|  4,247| $13 |2012|Non Fiction|\n",
            "+--------------------+-------------------+----------+-------+-----+----+-----------+\n",
            "only showing top 20 rows\n",
            "\n"
          ]
        }
      ]
    },
    {
      "cell_type": "code",
      "source": [
        "#Q4\n",
        "df1 = df.drop(\"Reviews\", \"Price\", \"Genre\", \"Genre\").show()"
      ],
      "metadata": {
        "id": "vUazF7FMPPLX",
        "outputId": "3e21057c-64a6-466f-fe38-e8f1439647ce",
        "colab": {
          "base_uri": "https://localhost:8080/"
        }
      },
      "execution_count": 110,
      "outputs": [
        {
          "output_type": "stream",
          "name": "stdout",
          "text": [
            "+--------------------+--------------------+----------+----+\n",
            "|                Name|              Author|UserRating|Year|\n",
            "+--------------------+--------------------+----------+----+\n",
            "|10-Day Green Smoo...|            JJ Smith|       4.7|2016|\n",
            "|   11/22/63: A Novel|        Stephen King|       4.6|2011|\n",
            "|12 Rules for Life...|  Jordan B. Peterson|       4.7|2018|\n",
            "|                1984|       George Orwell|       4.7|2021|\n",
            "|1984 (Signet Clas...|       George Orwell|       4.7|2017|\n",
            "|5,000 Awesome Fac...|National Geograph...|       4.8|2019|\n",
            "|A Dance with Drag...| George R. R. Martin|       4.4|2011|\n",
            "|A Game of Thrones...| George R. R. Martin|       4.7|2014|\n",
            "|A Gentleman in Mo...|         Amor Towles|       4.7|2017|\n",
            "|A Higher Loyalty:...|         James Comey|       4.7|2018|\n",
            "|A Man Called Ove:...|     Fredrik Backman|       4.6|2016|\n",
            "|A Man Called Ove:...|     Fredrik Backman|       4.6|2017|\n",
            "|A Patriot's Histo...|    Larry Schweikart|       4.6|2010|\n",
            "|     A Promised Land|        Barack Obama|       4.9|2020|\n",
            "|A Stolen Life: A ...|       Jaycee Dugard|       4.6|2011|\n",
            "|A Wrinkle in Time...|   Madeleine L'Engle|       4.5|2018|\n",
            "|Act Like a Lady, ...|        Steve Harvey|       4.6|2009|\n",
            "|Adult Coloring Bo...|Adult Coloring Bo...|       4.5|2016|\n",
            "|Adult Coloring Bo...|  Blue Star Coloring|       4.6|2015|\n",
            "|Adult Coloring Bo...|  Blue Star Coloring|       4.4|2015|\n",
            "+--------------------+--------------------+----------+----+\n",
            "only showing top 20 rows\n",
            "\n"
          ]
        }
      ]
    }
  ]
}